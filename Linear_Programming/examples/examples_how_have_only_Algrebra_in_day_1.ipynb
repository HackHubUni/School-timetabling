{
 "cells": [
  {
   "cell_type": "code",
   "execution_count": null,
   "id": "initial_id",
   "metadata": {
    "collapsed": true,
    "is_executing": true
   },
   "outputs": [],
   "source": [
    "import copy\n",
    "from enum import Enum\n",
    "from Linear_Programming.solver import TimeTablingSolver\n",
    "from Linear_Programming.printer import to_excel"
   ]
  },
  {
   "cell_type": "code",
   "outputs": [],
   "source": [
    "\n",
    "\n",
    "class Subjects(Enum):\n",
    "  Programacion = \"Programación\"\n",
    "  ProgramaciónCp = \"ProgramaciónCp\"\n",
    "  Algebra = \"Algebra\"\n",
    "  AlgebraCP = \"AlgebraCP\"\n",
    "  Analisis = \"Analisis\"\n",
    "  AnalisisCp = \"AnalisisCp\"\n",
    "  Logica = \"Logica\"\n",
    "  LogicaCp = \"LogicaCp\"\n",
    "\n",
    "  def __str__(self):\n",
    "    return self.value\n",
    "\n",
    "\n",
    "class Teachers(Enum):\n",
    "  Piad = \"Piad\"\n",
    "  Idania = \"Idania\"\n",
    "  Celia = \"Celia\"\n",
    "  Yudivian = \"Yudivian\"\n",
    "  DanielL = \"DanielL\"\n",
    "  OmarL = \"OmarLogica\"\n",
    "  CarmenL = \"CarmentL\"\n",
    "  ErnestoA = \"ErnestoAnalisis\"\n",
    "  CristinaA = \"CristinaA\"\n",
    "  MercedesA = \"MercedesA\"\n",
    "  DalianisAL = \"DalianisAlgebra\"\n",
    "  PepeAl = \"PepeAL\"\n",
    "  CayetanaAL = \"CayetanaAL\"\n",
    "  PacoP = \"PacoP\"\n",
    "  HectorP = \"HectorP\"\n",
    "  CarlaP = \"CarlaP\"\n",
    "\n",
    "  def __str__(self):\n",
    "    return self.value\n",
    "\n",
    "\n",
    "import pandas as pd\n",
    "\n",
    "\n",
    "def main():\n",
    "  subjects_name_list = [Subjects.Programacion,\n",
    "                        Subjects.ProgramaciónCp,\n",
    "                        Subjects.Algebra,\n",
    "                        Subjects.AlgebraCP,\n",
    "                        Subjects.Analisis,\n",
    "                        Subjects.AnalisisCp,\n",
    "                        Subjects.Logica,\n",
    "                        Subjects.LogicaCp, ]\n",
    "  subjects_name_list = [str(x) for x in subjects_name_list]\n",
    "\n",
    "  dict_subjects_by_time = {Subjects.Programacion: 1,\n",
    "                           Subjects.ProgramaciónCp: 2,\n",
    "                           Subjects.Algebra: 1,\n",
    "                           Subjects.AlgebraCP: 2,\n",
    "                           Subjects.Analisis: 1,\n",
    "                           Subjects.AnalisisCp: 2,\n",
    "                           Subjects.Logica: 1,\n",
    "                           Subjects.LogicaCp: 1\n",
    "                           }\n",
    "\n",
    "  dict_subjects_by_time = {str(x): dict_subjects_by_time[x] for x in dict_subjects_by_time.keys()}\n",
    "\n",
    "  teachers_names = [\n",
    "    Teachers.Piad,\n",
    "    Teachers.Idania,\n",
    "    Teachers.Celia,\n",
    "    Teachers.Yudivian,\n",
    "    Teachers.DanielL,\n",
    "    Teachers.OmarL,\n",
    "    Teachers.CarmenL,\n",
    "    Teachers.ErnestoA,\n",
    "    Teachers.CristinaA,\n",
    "    Teachers.MercedesA,\n",
    "    Teachers.DalianisAL,\n",
    "    Teachers.PepeAl,\n",
    "    Teachers.CayetanaAL,\n",
    "    Teachers.PacoP,\n",
    "    Teachers.HectorP,\n",
    "    Teachers.CarlaP,\n",
    "\n",
    "  ]\n",
    "  teachers_names = [str(x) for x in teachers_names]\n",
    "\n",
    "  classrooms_names = [f'{x}' for x in range(1, 6)] + [\"Postgrado\"]\n",
    "\n",
    "  groups_names = [f\"C11{x}\" for x in range(1, 7)]\n",
    "\n",
    "  dict_group_subject_time = {}\n",
    "\n",
    "  for item in groups_names:\n",
    "    dict_group_subject_time[item] = dict_subjects_by_time\n",
    "\n",
    "  shifts = [1, 2, 3]\n",
    "  days = [x for x in range(1, 6)]\n",
    "\n",
    "  dict_teachers_to_subjects = {\n",
    "\n",
    "    Teachers.Piad: [Subjects.Programacion],\n",
    "    Teachers.Idania: [Subjects.Analisis],\n",
    "    Teachers.Celia: [Subjects.Algebra],\n",
    "    Teachers.Yudivian: [Subjects.Logica],\n",
    "    Teachers.DanielL: [Subjects.LogicaCp],\n",
    "    Teachers.OmarL: [Subjects.LogicaCp],\n",
    "    Teachers.CarmenL: [Subjects.LogicaCp],\n",
    "    Teachers.ErnestoA: [Subjects.AnalisisCp],\n",
    "    Teachers.CristinaA: [Subjects.AnalisisCp],\n",
    "    Teachers.MercedesA: [Subjects.AnalisisCp],\n",
    "    Teachers.DalianisAL: [Subjects.AlgebraCP],\n",
    "    Teachers.PepeAl: [Subjects.AlgebraCP],\n",
    "    Teachers.CayetanaAL: [Subjects.AlgebraCP],\n",
    "    Teachers.PacoP: [Subjects.ProgramaciónCp],\n",
    "    Teachers.HectorP: [Subjects.ProgramaciónCp],\n",
    "    Teachers.CarlaP: [Subjects.ProgramaciónCp],\n",
    "\n",
    "  }\n",
    "\n",
    "  dict_teachers_to_subjects = {str(x): [str(y) for y in dict_teachers_to_subjects[x]] for x in\n",
    "                               dict_teachers_to_subjects.keys()}\n",
    "\n"
   ],
   "metadata": {
    "collapsed": false,
    "is_executing": true
   },
   "id": "d2086e47754cdbcf"
  },
  {
   "cell_type": "markdown",
   "source": [
    "Instanciar el solver"
   ],
   "metadata": {
    "collapsed": false
   },
   "id": "2e40dafb11ecba83"
  },
  {
   "cell_type": "code",
   "outputs": [],
   "source": [
    "solver = TimeTablingSolver(subjects_name_list, dict_subjects_by_time, teachers_names, classrooms_names, groups_names,\n",
    "                           dict_group_subject_time, shifts, days, dict_teachers_to_subjects)"
   ],
   "metadata": {
    "collapsed": false
   },
   "id": "ffcf9584d0c341e7"
  },
  {
   "cell_type": "markdown",
   "source": [
    "Se añade que para todos los grupos se deben de dar un turno de algebra el dia 1"
   ],
   "metadata": {
    "collapsed": false
   },
   "id": "eaa7fa3b11d4edad"
  },
  {
   "cell_type": "code",
   "outputs": [],
   "source": [
    " solver.add_optional_hard_constraints(teachers_names,[str(Subjects.Algebra)],classrooms_names,groups_names,shifts,[1],len(groups_names))"
   ],
   "metadata": {
    "collapsed": false,
    "is_executing": true
   },
   "id": "933b169cdbad7cde"
  },
  {
   "cell_type": "markdown",
   "source": [
    "# Ahora decimos que no se puede dar a los grupos ninguna otra asignatura el dia 1 que no sea algebra"
   ],
   "metadata": {
    "collapsed": false
   },
   "id": "f18c2e9fe2980828"
  },
  {
   "cell_type": "markdown",
   "source": [
    "Aca copiamos la lista de materias y le quitamos algebra"
   ],
   "metadata": {
    "collapsed": false
   },
   "id": "ddf7c38f337b1da5"
  },
  {
   "cell_type": "code",
   "outputs": [],
   "source": [
    "  a=copy.deepcopy(subjects_name_list)\n",
    "  a.remove(str(Subjects.Algebra))"
   ],
   "metadata": {
    "collapsed": false,
    "is_executing": true
   },
   "id": "e7f6a465402c8f8"
  },
  {
   "cell_type": "markdown",
   "source": [
    "Añadimos la restriccion que hace que eso nunca se pueda cumplir"
   ],
   "metadata": {
    "collapsed": false
   },
   "id": "33e2620e3e8b8a2a"
  },
  {
   "cell_type": "code",
   "outputs": [],
   "source": [
    "solver.add_False_hard_constraints(teachers_names,a,classrooms_names,groups_names,shifts,[1])"
   ],
   "metadata": {
    "collapsed": false
   },
   "id": "5bce2a50aa4f12b3"
  },
  {
   "cell_type": "markdown",
   "source": [
    "Llamamos al solver para que resuelva "
   ],
   "metadata": {
    "collapsed": false
   },
   "id": "4f7910b3b6b89587"
  },
  {
   "cell_type": "code",
   "outputs": [],
   "source": [
    "df=solver.solve()\n"
   ],
   "metadata": {
    "collapsed": false
   },
   "id": "c4b23f0e6402736c"
  },
  {
   "cell_type": "markdown",
   "source": [
    "Imprimir el excel"
   ],
   "metadata": {
    "collapsed": false
   },
   "id": "6f265982137ce9e2"
  },
  {
   "cell_type": "code",
   "outputs": [],
   "source": [
    " to_excel(df)"
   ],
   "metadata": {
    "collapsed": false
   },
   "id": "3e81ef1e1ebd8a2e"
  }
 ],
 "metadata": {
  "kernelspec": {
   "display_name": "Python 3",
   "language": "python",
   "name": "python3"
  },
  "language_info": {
   "codemirror_mode": {
    "name": "ipython",
    "version": 2
   },
   "file_extension": ".py",
   "mimetype": "text/x-python",
   "name": "python",
   "nbconvert_exporter": "python",
   "pygments_lexer": "ipython2",
   "version": "2.7.6"
  }
 },
 "nbformat": 4,
 "nbformat_minor": 5
}
