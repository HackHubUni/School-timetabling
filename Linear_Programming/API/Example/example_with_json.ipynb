{
 "cells": [
  {
   "cell_type": "code",
   "execution_count": null,
   "id": "initial_id",
   "metadata": {
    "collapsed": true,
    "is_executing": true
   },
   "outputs": [],
   "source": [
    "from enum import Enum\n",
    "from src.solver import TimeTablingSolver\n",
    "from src.printer import to_excel\n",
    "\n"
   ]
  },
  {
   "cell_type": "markdown",
   "source": [
    "Crear las asignaturas de primer año"
   ],
   "metadata": {
    "collapsed": false
   },
   "id": "d5b9a0b01c3119b9"
  },
  {
   "cell_type": "code",
   "outputs": [],
   "source": [
    "class Subjects(Enum):\n",
    "  Programacion = \"Programacion\"\n",
    "  ProgramaciónCp = \"ProgramacionCp\"\n",
    "  Algebra = \"Algebra\"\n",
    "  AlgebraCP = \"AlgebraCP\"\n",
    "  Analisis = \"Analisis\"\n",
    "  AnalisisCp = \"AnalisisCp\"\n",
    "  Logica = \"Logica\"\n",
    "  LogicaCp = \"LogicaCp\""
   ],
   "metadata": {
    "collapsed": false,
    "is_executing": true
   },
   "id": "c2e7913273bb8ab2"
  },
  {
   "cell_type": "code",
   "outputs": [],
   "source": [],
   "metadata": {
    "collapsed": false,
    "is_executing": true
   },
   "id": "6905d7f12718e747"
  },
  {
   "cell_type": "code",
   "outputs": [],
   "source": [],
   "metadata": {
    "collapsed": false
   },
   "id": "df92c676995dccc9"
  }
 ],
 "metadata": {
  "kernelspec": {
   "display_name": "Python 3",
   "language": "python",
   "name": "python3"
  },
  "language_info": {
   "codemirror_mode": {
    "name": "ipython",
    "version": 2
   },
   "file_extension": ".py",
   "mimetype": "text/x-python",
   "name": "python",
   "nbconvert_exporter": "python",
   "pygments_lexer": "ipython2",
   "version": "2.7.6"
  }
 },
 "nbformat": 4,
 "nbformat_minor": 5
}
